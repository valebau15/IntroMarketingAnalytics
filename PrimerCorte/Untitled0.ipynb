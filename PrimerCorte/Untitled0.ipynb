{
  "nbformat": 4,
  "nbformat_minor": 0,
  "metadata": {
    "colab": {
      "provenance": []
    },
    "kernelspec": {
      "name": "python3",
      "display_name": "Python 3"
    },
    "language_info": {
      "name": "python"
    }
  },
  "cells": [
    {
      "cell_type": "code",
      "source": [
        "2+2"
      ],
      "metadata": {
        "colab": {
          "base_uri": "https://localhost:8080/"
        },
        "id": "UGJllBlXuR6G",
        "outputId": "d6b52798-628c-4576-e179-1625f395b553"
      },
      "execution_count": 3,
      "outputs": [
        {
          "output_type": "execute_result",
          "data": {
            "text/plain": [
              "4"
            ]
          },
          "metadata": {},
          "execution_count": 3
        }
      ]
    },
    {
      "cell_type": "markdown",
      "source": [
        "Hola mi primer notebook"
      ],
      "metadata": {
        "id": "Dnr9t6A0uX-6"
      }
    },
    {
      "cell_type": "code",
      "source": [
        "print (\"Hola Mi prime notebook\")"
      ],
      "metadata": {
        "id": "S35an4s4u1wE"
      },
      "execution_count": null,
      "outputs": []
    }
  ]
}